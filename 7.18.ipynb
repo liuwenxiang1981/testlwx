{
 "cells": [
  {
   "cell_type": "markdown",
   "metadata": {},
   "source": [
    "# 选择\n",
    "## 布尔类型、数值和表达式\n",
    "![](../Photo/33.png)\n",
    "- 注意：比较运算符的相等是两个等到，一个等到代表赋值\n",
    "- 在Python中可以用整型0来代表False，其他数字来代表True\n",
    "- 后面还会讲到 is 在判断语句中的用发"
   ]
  },
  {
   "cell_type": "code",
   "execution_count": 1,
   "metadata": {},
   "outputs": [
    {
     "data": {
      "text/plain": [
       "False"
      ]
     },
     "execution_count": 1,
     "metadata": {},
     "output_type": "execute_result"
    }
   ],
   "source": [
    "a = 100\n",
    "b = 100 \n",
    "a<b"
   ]
  },
  {
   "cell_type": "code",
   "execution_count": null,
   "metadata": {},
   "outputs": [],
   "source": [
    "##字符串的比较使用ASCII值"
   ]
  },
  {
   "cell_type": "code",
   "execution_count": 4,
   "metadata": {},
   "outputs": [
    {
     "data": {
      "text/plain": [
       "True"
      ]
     },
     "execution_count": 4,
     "metadata": {},
     "output_type": "execute_result"
    }
   ],
   "source": [
    "c = 'jokwe'\n",
    "d = 'haha'\n",
    "c>d"
   ]
  },
  {
   "cell_type": "markdown",
   "metadata": {},
   "source": [
    "\n",
    "\n",
    "## EP:\n",
    "- <img src=\"../Photo/34.png\"></img>\n",
    "- 输入一个数字，判断其实奇数还是偶数"
   ]
  },
  {
   "cell_type": "markdown",
   "metadata": {},
   "source": [
    "markdown\n",
    "##https://github.com/younghz/markdown"
   ]
  },
  {
   "cell_type": "code",
   "execution_count": 5,
   "metadata": {},
   "outputs": [
    {
     "data": {
      "text/plain": [
       "False"
      ]
     },
     "execution_count": 5,
     "metadata": {},
     "output_type": "execute_result"
    }
   ],
   "source": [
    "e1 = 100\n",
    "f1 = '100'\n",
    "e1==f1"
   ]
  },
  {
   "cell_type": "code",
   "execution_count": 6,
   "metadata": {},
   "outputs": [
    {
     "data": {
      "text/plain": [
       "True"
      ]
     },
     "execution_count": 6,
     "metadata": {},
     "output_type": "execute_result"
    }
   ],
   "source": [
    "e2 = 101\n",
    "f2 = 102\n",
    "e2 != f2"
   ]
  },
  {
   "cell_type": "markdown",
   "metadata": {},
   "source": [
    "## 产生随机数字\n",
    "- 函数random.randint(a,b) 可以用来产生一个a和b之间且包括a和b的随机整数"
   ]
  },
  {
   "cell_type": "code",
   "execution_count": 11,
   "metadata": {},
   "outputs": [
    {
     "name": "stdout",
     "output_type": "stream",
     "text": [
      "1\n",
      "0\n",
      "True\n",
      "False\n"
     ]
    }
   ],
   "source": [
    "i = int(True)\n",
    "print(i)\n",
    "j = int(False)\n",
    "print(j)\n",
    "b1 = bool(4)\n",
    "print(b1)\n",
    "b2 = bool(0)\n",
    "print(b2)"
   ]
  },
  {
   "cell_type": "markdown",
   "metadata": {},
   "source": [
    "##  其他random方法\n",
    "- random.random 返回0.0到1.0之间前闭后开区间的随机浮点\n",
    "- random.randrange(a,b) 前闭后开"
   ]
  },
  {
   "cell_type": "code",
   "execution_count": 12,
   "metadata": {},
   "outputs": [],
   "source": [
    "import random"
   ]
  },
  {
   "cell_type": "code",
   "execution_count": 13,
   "metadata": {},
   "outputs": [
    {
     "name": "stdout",
     "output_type": "stream",
     "text": [
      "0\n"
     ]
    }
   ],
   "source": [
    "a1 = random.randint(0,5)#返回随机整型的数字，包括界限\n",
    "print(a1)"
   ]
  },
  {
   "cell_type": "code",
   "execution_count": 14,
   "metadata": {},
   "outputs": [
    {
     "name": "stdout",
     "output_type": "stream",
     "text": [
      "0.7588923942354704\n"
     ]
    }
   ],
   "source": [
    "a2= random.random()\n",
    "print(a2)"
   ]
  },
  {
   "cell_type": "code",
   "execution_count": 21,
   "metadata": {},
   "outputs": [
    {
     "name": "stdout",
     "output_type": "stream",
     "text": [
      "8\n"
     ]
    }
   ],
   "source": [
    "a3 =  random.randrange(start=0,stop=10,step=2) #step是步长\n",
    "print(a3)"
   ]
  },
  {
   "cell_type": "code",
   "execution_count": 22,
   "metadata": {},
   "outputs": [
    {
     "name": "stdout",
     "output_type": "stream",
     "text": [
      "<random.Random object at 0x000000000630AA58>\n"
     ]
    }
   ],
   "source": [
    "a4 = random.Random()\n",
    "print(a4)"
   ]
  },
  {
   "cell_type": "markdown",
   "metadata": {},
   "source": [
    "## EP：\n",
    "- 产生两个随机整数number1和number2，然后显示给用户，使用户输入数字的和，并判定其是否正确\n",
    "- 进阶:写一个随机序号点名程序"
   ]
  },
  {
   "cell_type": "code",
   "execution_count": 31,
   "metadata": {},
   "outputs": [
    {
     "name": "stdout",
     "output_type": "stream",
     "text": [
      "2\n",
      "6\n",
      "请输入数字8\n",
      "正确\n"
     ]
    }
   ],
   "source": [
    "number1 = random.randint(0,3)\n",
    "print(number1)\n",
    "number2 = random.randint(4,7)\n",
    "print(number2)\n",
    "b = number1 + number2\n",
    "a = input(\"请输入答案\")##a=eval(input('kdfji\"))\n",
    "if a == str(b):\n",
    "    print('正确')\n",
    "else:\n",
    "    print(\"错误\")"
   ]
  },
  {
   "cell_type": "code",
   "execution_count": 2,
   "metadata": {},
   "outputs": [
    {
     "name": "stdout",
     "output_type": "stream",
     "text": [
      "0 2\n",
      "请输入和3\n",
      "F\n"
     ]
    }
   ],
   "source": [
    "import random\n",
    "number1 = random.randint(0,10)\n",
    "number2 = random.randint(0,10)\n",
    "print(number1,number2)\n",
    "sum_ = number1+number2#是一个数值型\n",
    "sum_input =eval(input('请输入和'))#input 输入的字符串类型\n",
    "if sum_==sum_input:\n",
    "    print('T')\n",
    "else:\n",
    "    print('F')\n"
   ]
  },
  {
   "cell_type": "code",
   "execution_count": 40,
   "metadata": {},
   "outputs": [
    {
     "name": "stdout",
     "output_type": "stream",
     "text": [
      "请输入和3,8\n",
      "11\n",
      "T\n"
     ]
    }
   ],
   "source": [
    "number1 = random.randint(0,10)\n",
    "number2 = random.randint(0,10)\n",
    "#print(number1,number2)\n",
    "sum_ = number1+number2  #是一个数值型\n",
    "sum_input =eval(input('请输入和%d,%d\\n'%(number1,number2)))#input 输入的字符串类型\n",
    "if sum_ == sum_input:\n",
    "    print('T')\n",
    "else:\n",
    "    print('F')"
   ]
  },
  {
   "cell_type": "markdown",
   "metadata": {},
   "source": [
    "##随机点名程序\n"
   ]
  },
  {
   "cell_type": "code",
   "execution_count": 58,
   "metadata": {},
   "outputs": [
    {
     "name": "stdout",
     "output_type": "stream",
     "text": [
      "李四\n"
     ]
    }
   ],
   "source": [
    "import random\n",
    "names =['刘一','陈二','张三','李四','王五','赵六','孙七','周八','吴九','郑十']\n",
    "index = random.randint(0,len(names)-1)\n",
    "print(names[index])"
   ]
  },
  {
   "cell_type": "code",
   "execution_count": 56,
   "metadata": {},
   "outputs": [
    {
     "ename": "IndentationError",
     "evalue": "unindent does not match any outer indentation level (<tokenize>, line 14)",
     "output_type": "error",
     "traceback": [
      "\u001b[1;36m  File \u001b[1;32m\"<tokenize>\"\u001b[1;36m, line \u001b[1;32m14\u001b[0m\n\u001b[1;33m    print(name)\u001b[0m\n\u001b[1;37m    ^\u001b[0m\n\u001b[1;31mIndentationError\u001b[0m\u001b[1;31m:\u001b[0m unindent does not match any outer indentation level\n"
     ]
    }
   ],
   "source": [
    "import random as r\n",
    "\n",
    "a1=['00','01','02','03']\n",
    "\n",
    "a2=['10','11','12','13']\n",
    "\n",
    "a3=['20','21','22','23']\n",
    "\n",
    "a4=['30','31','32','33']\n",
    "\n",
    "for i in range(14):\n",
    "    name=r.choice(a1)+r.choice(a2)+r.choice(a3)\n",
    "   # name = randint(1)\n",
    "   print(name)"
   ]
  },
  {
   "cell_type": "markdown",
   "metadata": {},
   "source": [
    "## if语句\n",
    "- 如果条件正确就执行一个单向if语句，亦即当条件为真的时候才执行if内部的语句\n",
    "- Python有很多选择语句:\n",
    "> - 单向if \n",
    "  - 双向if-else\n",
    "  - 嵌套if\n",
    "  - 多向if-elif-else\n",
    "  \n",
    "- 注意：当语句含有子语句的时候，那么一定至少要有一个缩进，也就是说如果有儿子存在，那么一定要缩进\n",
    "- 切记不可tab键和space混用，单用table 或者 space\n",
    "- 当你输出的结果是无论if是否为真时都需要显示时，语句应该与if对齐"
   ]
  },
  {
   "cell_type": "code",
   "execution_count": 45,
   "metadata": {},
   "outputs": [
    {
     "name": "stdout",
     "output_type": "stream",
     "text": [
      "hhah\n"
     ]
    }
   ],
   "source": [
    "if 'a' == 'a':\n",
    "    print('hhah')"
   ]
  },
  {
   "cell_type": "code",
   "execution_count": null,
   "metadata": {},
   "outputs": [],
   "source": [
    "if 'a' == 'b':\n",
    "    print('hhah')\n",
    "print('lala')"
   ]
  },
  {
   "cell_type": "markdown",
   "metadata": {},
   "source": [
    "## EP：\n",
    "- 用户输入一个数字，判断其实奇数还是偶数\n",
    "- 进阶：可以查看下4.5实例研究猜生日"
   ]
  },
  {
   "cell_type": "code",
   "execution_count": null,
   "metadata": {},
   "outputs": [],
   "source": []
  },
  {
   "cell_type": "markdown",
   "metadata": {},
   "source": [
    "## 双向if-else 语句\n",
    "- 如果条件为真，那么走if内部语句，否则走else内部语句"
   ]
  },
  {
   "cell_type": "code",
   "execution_count": 49,
   "metadata": {},
   "outputs": [
    {
     "name": "stdout",
     "output_type": "stream",
     "text": [
      "lala\n"
     ]
    }
   ],
   "source": [
    "if 'a' == 'b':\n",
    "    print('hhah')\n",
    "else:\n",
    "    print('lala')"
   ]
  },
  {
   "cell_type": "code",
   "execution_count": null,
   "metadata": {},
   "outputs": [],
   "source": [
    "if 'a'=='b'\n",
    "    print('hhh')\n",
    "elif 'a'=='c':\n",
    "    print('llll')\n",
    "else:\n",
    "    print('dddd')"
   ]
  },
  {
   "cell_type": "markdown",
   "metadata": {},
   "source": [
    "## EP：\n",
    "- 产生两个随机整数number1和number2，然后显示给用户，使用户输入数字，并判定其是否正确,如果正确打印“you‘re correct”，否则打印错误答案"
   ]
  },
  {
   "cell_type": "markdown",
   "metadata": {},
   "source": [
    "## 嵌套if 和多向if-elif-else\n",
    "![](../Photo/35.png)"
   ]
  },
  {
   "cell_type": "code",
   "execution_count": 64,
   "metadata": {},
   "outputs": [
    {
     "name": "stdout",
     "output_type": "stream",
     "text": [
      "请输入成绩86\n"
     ]
    }
   ],
   "source": [
    "score = eval(input(\"请输入成绩\"))\n",
    "if 100.0< score <90.0:\n",
    "    print(\"A\")\n",
    "elif 89.0< score <80.0:\n",
    "    print(\"B\")\n",
    "elif 79.0 < score <70.0:\n",
    "    print(\"C\")\n",
    "elif 69.0<score <60:\n",
    "    print(\"D\")\n"
   ]
  },
  {
   "cell_type": "code",
   "execution_count": null,
   "metadata": {},
   "outputs": [],
   "source": [
    "score = eval(input(\"请输入成绩\"))\n",
    "if 100.0< score <90.0:\n",
    "    print('A')\n",
    "elif 89.0< score <80.0:\n",
    "    print('B')\n",
    "elif 79.0 < score <70.0:\n",
    "    print('C')\n",
    "elif 69.0<score <60.0:\n",
    "    print('D')\n",
    "elif 59.0<score <0.0:\n",
    "    print('E')\n",
    "print(grade)"
   ]
  },
  {
   "cell_type": "code",
   "execution_count": 61,
   "metadata": {},
   "outputs": [
    {
     "name": "stdout",
     "output_type": "stream",
     "text": [
      "请输入成绩80\n",
      "B\n"
     ]
    }
   ],
   "source": [
    "score = eval(input(\"请输入成绩\"))\n",
    "if score >= 90.0:\n",
    "    print('A')\n",
    "elif score < 90.0:\n",
    "    print('B')"
   ]
  },
  {
   "cell_type": "markdown",
   "metadata": {},
   "source": [
    "## EP：\n",
    "- 提示用户输入一个年份，然后显示表示这一年的动物\n",
    "![](../Photo/36.png)\n",
    "- 计算身体质量指数的程序\n",
    "- BMI = 以千克为单位的体重除以以米为单位的身高\n",
    "![](../Photo/37.png)"
   ]
  },
  {
   "cell_type": "code",
   "execution_count": 67,
   "metadata": {},
   "outputs": [
    {
     "name": "stdout",
     "output_type": "stream",
     "text": [
      "请输入一个年份1985\n",
      "猪\n"
     ]
    }
   ],
   "source": [
    "year = eval(input('请输入一个年份'))\n",
    "a = year % 12\n",
    "if a == 0:\n",
    "    print('猴')\n",
    "elif a ==1:\n",
    "    print('鸡')\n",
    "elif a==2:\n",
    "    print('狗')\n",
    "print('猪')\n"
   ]
  },
  {
   "cell_type": "code",
   "execution_count": null,
   "metadata": {},
   "outputs": [],
   "source": [
    "year = eval(input('year'))\n",
    "res = year % 12\n",
    "if rse == 0\n",
    "    print('猴')"
   ]
  },
  {
   "cell_type": "code",
   "execution_count": null,
   "metadata": {},
   "outputs": [],
   "source": [
    "t = eval(input('输入以千克为单位的体重'))\n",
    "g = eval(input('输入以米为单位的身高'))\n",
    "BMI = t / g\n",
    "if BMI<18.5\n",
    "    print('')"
   ]
  },
  {
   "cell_type": "markdown",
   "metadata": {},
   "source": [
    "## 逻辑运算符\n",
    "![](../Photo/38.png)"
   ]
  },
  {
   "cell_type": "code",
   "execution_count": 68,
   "metadata": {},
   "outputs": [
    {
     "data": {
      "text/plain": [
       "True"
      ]
     },
     "execution_count": 68,
     "metadata": {},
     "output_type": "execute_result"
    }
   ],
   "source": [
    "not('a' == 'b')\n"
   ]
  },
  {
   "cell_type": "code",
   "execution_count": null,
   "metadata": {},
   "outputs": [],
   "source": [
    "a = ['a','b','c']\n",
    "if d not in a:\n",
    "    print('是否要充值')"
   ]
  },
  {
   "cell_type": "code",
   "execution_count": 69,
   "metadata": {},
   "outputs": [
    {
     "name": "stdout",
     "output_type": "stream",
     "text": [
      "haah\n"
     ]
    }
   ],
   "source": [
    "if 'a'== 'b' or 'c'=='c':\n",
    "    print('haah')"
   ]
  },
  {
   "cell_type": "code",
   "execution_count": null,
   "metadata": {},
   "outputs": [],
   "source": [
    "if 'a'== 'b' and 'c'=='c':\n",
    "    print('haah')"
   ]
  },
  {
   "cell_type": "code",
   "execution_count": 70,
   "metadata": {},
   "outputs": [
    {
     "data": {
      "text/plain": [
       "True"
      ]
     },
     "execution_count": 70,
     "metadata": {},
     "output_type": "execute_result"
    }
   ],
   "source": [
    "100 == 100 and 100==100"
   ]
  },
  {
   "cell_type": "code",
   "execution_count": 73,
   "metadata": {},
   "outputs": [
    {
     "data": {
      "text/plain": [
       "True"
      ]
     },
     "execution_count": 73,
     "metadata": {},
     "output_type": "execute_result"
    }
   ],
   "source": [
    "100==100 or 100==101\n"
   ]
  },
  {
   "cell_type": "code",
   "execution_count": 74,
   "metadata": {},
   "outputs": [
    {
     "data": {
      "text/plain": [
       "True"
      ]
     },
     "execution_count": 74,
     "metadata": {},
     "output_type": "execute_result"
    }
   ],
   "source": [
    "100==100 & 100==100"
   ]
  },
  {
   "cell_type": "code",
   "execution_count": null,
   "metadata": {},
   "outputs": [],
   "source": []
  },
  {
   "cell_type": "markdown",
   "metadata": {},
   "source": [
    "![](../Photo/39.png)\n",
    "![](../Photo/40.png)"
   ]
  },
  {
   "cell_type": "code",
   "execution_count": 76,
   "metadata": {},
   "outputs": [
    {
     "data": {
      "text/plain": [
       "False"
      ]
     },
     "execution_count": 76,
     "metadata": {},
     "output_type": "execute_result"
    }
   ],
   "source": [
    "4>= 5 and 5>=0"
   ]
  },
  {
   "cell_type": "code",
   "execution_count": 77,
   "metadata": {},
   "outputs": [
    {
     "data": {
      "text/plain": [
       "True"
      ]
     },
     "execution_count": 77,
     "metadata": {},
     "output_type": "execute_result"
    }
   ],
   "source": [
    "(1 >=1)and 1<10"
   ]
  },
  {
   "cell_type": "code",
   "execution_count": 78,
   "metadata": {},
   "outputs": [
    {
     "data": {
      "text/plain": [
       "True"
      ]
     },
     "execution_count": 78,
     "metadata": {},
     "output_type": "execute_result"
    }
   ],
   "source": [
    "1<=1<10"
   ]
  },
  {
   "cell_type": "code",
   "execution_count": 80,
   "metadata": {},
   "outputs": [
    {
     "data": {
      "text/plain": [
       "False"
      ]
     },
     "execution_count": 80,
     "metadata": {},
     "output_type": "execute_result"
    }
   ],
   "source": [
    "1>=ord('a')"
   ]
  },
  {
   "cell_type": "code",
   "execution_count": 82,
   "metadata": {},
   "outputs": [
    {
     "data": {
      "text/plain": [
       "False"
      ]
     },
     "execution_count": 82,
     "metadata": {},
     "output_type": "execute_result"
    }
   ],
   "source": [
    "1> 1.6"
   ]
  },
  {
   "cell_type": "markdown",
   "metadata": {},
   "source": [
    "## EP：\n",
    "- 判定闰年：一个年份如果能被4整除但不能被100整除，或者能被400整除，那么这个年份就是闰年\n",
    "- 提示用户输入一个年份，并返回是否是闰年\n",
    "- 提示用户输入一个数字，判断其是否为水仙花数"
   ]
  },
  {
   "cell_type": "code",
   "execution_count": 84,
   "metadata": {},
   "outputs": [
    {
     "name": "stdout",
     "output_type": "stream",
     "text": [
      "请输入一个年份：2000\n",
      "2000是闰年\n"
     ]
    }
   ],
   "source": [
    "year = eval(input('请输入一个年份：'))\n",
    "if (year % 4) == 0:\n",
    "    if(year % 100)==0:\n",
    "        if(year % 400)==0:\n",
    "            print('%d是闰年'% year)\n",
    "        else:\n",
    "            print('%d不是闰年'% year)\n",
    "    else:\n",
    "        print('%d是闰年'% year)\n",
    "else:\n",
    "    print('%d不是闰年'% year)\n",
    "      "
   ]
  },
  {
   "cell_type": "code",
   "execution_count": 86,
   "metadata": {},
   "outputs": [
    {
     "name": "stdout",
     "output_type": "stream",
     "text": [
      "请输入一个年份：1982\n",
      "1982不是闰年\n"
     ]
    }
   ],
   "source": [
    "year = eval(input('请输入一个年份：'))\n",
    "if (year % 4) == 0 or (year % 400)==0:\n",
    "    if(year % 100)==0 or (year % 400)==0:\n",
    "        print('%d是闰年'% year)\n",
    "    else:\n",
    "        print('%d不是闰年'% year)\n",
    "else:\n",
    "    print('%d不是闰年'% year)\n"
   ]
  },
  {
   "cell_type": "markdown",
   "metadata": {},
   "source": [
    "## 实例研究：彩票\n",
    "![](../Photo/41.png)"
   ]
  },
  {
   "cell_type": "code",
   "execution_count": null,
   "metadata": {},
   "outputs": [],
   "source": [
    "random()"
   ]
  },
  {
   "cell_type": "markdown",
   "metadata": {},
   "source": [
    "# Homework\n",
    "- 1\n",
    "![](../Photo/42.png)"
   ]
  },
  {
   "cell_type": "code",
   "execution_count": 18,
   "metadata": {},
   "outputs": [
    {
     "name": "stdout",
     "output_type": "stream",
     "text": [
      "请输入a的值12\n",
      "请输入b的值34\n",
      "请输入c的值67\n",
      "方程没有实根\n"
     ]
    }
   ],
   "source": [
    "import math\n",
    "a = eval(input('请输入a的值'))\n",
    "b = eval(input('请输入b的值'))\n",
    "c = eval(input('请输入c的值'))\n",
    "D =(b*b) - (4*a*c)\n",
    "if D<0:\n",
    "    print('方程没有实根')\n",
    "else:\n",
    "    if D==0:\n",
    "        G = (-b+math.sqrt(D))/(2*a)\n",
    "        print(G)\n",
    "    else:\n",
    "        E= (-b+math.sqrt(D))/(2*a)\n",
    "        F= (-b-math.sqrt(D))/(2*a)\n",
    "        print(E,F)\n"
   ]
  },
  {
   "cell_type": "code",
   "execution_count": 5,
   "metadata": {},
   "outputs": [
    {
     "name": "stdout",
     "output_type": "stream",
     "text": [
      "请输入a的值2\n",
      "请输入b的值3\n",
      "请输入c的值4\n",
      "方程没有实根\n"
     ]
    }
   ],
   "source": [
    "a = eval(input('请输入a的值'))\n",
    "b = eval(input('请输入b的值'))\n",
    "c = eval(input('请输入c的值'))\n",
    "D = (b*b) - (4*a*c)\n",
    "if D>1:\n",
    "    E= 1\n",
    "    F= -1\n",
    "    print(E,F)\n",
    "elif D==0:\n",
    "    G = 3\n",
    "    print(G)\n",
    "print('方程没有实根')\n",
    "    \n",
    "    "
   ]
  },
  {
   "cell_type": "markdown",
   "metadata": {},
   "source": [
    "### - 2\n",
    "![](../Photo/43.png)"
   ]
  },
  {
   "cell_type": "code",
   "execution_count": 1,
   "metadata": {},
   "outputs": [
    {
     "name": "stdout",
     "output_type": "stream",
     "text": [
      "26 58\n",
      "请输入和26,58\n",
      "56\n",
      "F\n"
     ]
    }
   ],
   "source": [
    "import random\n",
    "number1 = random.randint(0,100)\n",
    "number2 = random.randint(0,100)\n",
    "print(number1,number2)\n",
    "sum_ = number1+number2  #是一个数值型\n",
    "sum_input =eval(input('请输入和%d,%d\\n'%(number1,number2)))#input 输入的字符串类型\n",
    "if sum_ == sum_input:\n",
    "    print('T')\n",
    "else:\n",
    "    print('F')"
   ]
  },
  {
   "cell_type": "code",
   "execution_count": null,
   "metadata": {},
   "outputs": [],
   "source": []
  },
  {
   "cell_type": "markdown",
   "metadata": {},
   "source": [
    "- 3\n",
    "![](../Photo/44.png)"
   ]
  },
  {
   "cell_type": "code",
   "execution_count": null,
   "metadata": {},
   "outputs": [],
   "source": [
    "import random\n"
   ]
  },
  {
   "cell_type": "markdown",
   "metadata": {},
   "source": [
    "- 4\n",
    "![](../Photo/45.png)"
   ]
  },
  {
   "cell_type": "code",
   "execution_count": 10,
   "metadata": {},
   "outputs": [
    {
     "name": "stdout",
     "output_type": "stream",
     "text": [
      "请输入第一个整数：56\n",
      "请输入第二个整数：67\n",
      "请输入第三个整数：54\n",
      "54 56 67\n"
     ]
    }
   ],
   "source": [
    "a = eval(input('请输入第一个整数：'))\n",
    "b = eval(input('请输入第二个整数：'))\n",
    "c = eval(input('请输入第三个整数：'))\n",
    "if a<b:\n",
    "    if a<c:\n",
    "        if b<c:\n",
    "            print(a,b,c)\n",
    "        else:\n",
    "            print(a,c.b)\n",
    "    else:\n",
    "        if b>c:\n",
    "            print(c,a,b)\n",
    "        else:\n",
    "            print(b,c,a)\n",
    "else:\n",
    "    if b>c:\n",
    "        if a<c:\n",
    "            print(c,b,a)\n",
    "        else:\n",
    "            print(b,a,c)\n",
    "    else:\n",
    "        if a<c:\n",
    "            print(b,a,c)\n",
    "        else:\n",
    "            print(b,c,a)\n",
    "\n",
    "        \n",
    "\n"
   ]
  },
  {
   "cell_type": "markdown",
   "metadata": {},
   "source": [
    "- 5\n",
    "![](../Photo/46.png)"
   ]
  },
  {
   "cell_type": "code",
   "execution_count": 13,
   "metadata": {},
   "outputs": [
    {
     "name": "stdout",
     "output_type": "stream",
     "text": [
      "请输入重量：34\n",
      "请输入价钱：12\n",
      "请输入重量：34\n",
      "请输入价钱：56\n",
      "12比较好\n"
     ]
    }
   ],
   "source": [
    "z1 = eval(input('请输入重量：'))\n",
    "j1 = eval(input('请输入价钱：'))\n",
    "z2 = eval(input('请输入重量：'))\n",
    "j2 = eval(input('请输入价钱：'))\n",
    "if z1 == z2:\n",
    "    if j1<j2:\n",
    "        print('价钱为%d的大米比较好'%j1)\n",
    "    else:\n",
    "        print('价钱为%d的大米比较好'%j2)\n",
    "else:\n",
    "    print('不是一个重量的大米')"
   ]
  },
  {
   "cell_type": "markdown",
   "metadata": {},
   "source": [
    "- 6\n",
    "![](../Photo/47.png)"
   ]
  },
  {
   "cell_type": "code",
   "execution_count": null,
   "metadata": {},
   "outputs": [],
   "source": []
  },
  {
   "cell_type": "markdown",
   "metadata": {},
   "source": [
    "- 7\n",
    "![](../Photo/48.png)"
   ]
  },
  {
   "cell_type": "code",
   "execution_count": 14,
   "metadata": {},
   "outputs": [
    {
     "name": "stdout",
     "output_type": "stream",
     "text": [
      "正面1反面为0请输入一个猜测值：1\n",
      "猜测正确\n"
     ]
    }
   ],
   "source": [
    "q = eval(input('正面1反面为0请输入一个猜测值：'))\n",
    "if q==1:\n",
    "    print('猜测正确')\n",
    "else:\n",
    "    print('猜测错误')"
   ]
  },
  {
   "cell_type": "markdown",
   "metadata": {},
   "source": [
    "- 8\n",
    "![](../Photo/49.png)"
   ]
  },
  {
   "cell_type": "code",
   "execution_count": 36,
   "metadata": {},
   "outputs": [
    {
     "name": "stdout",
     "output_type": "stream",
     "text": [
      "请您出数0是剪刀、1是石头、2是布：0\n",
      "0\n",
      "平局\n"
     ]
    }
   ],
   "source": [
    "import random\n",
    "a1 = random.randint(0,2)\n",
    "b1 = eval(input('请您出数0是剪刀、1是石头、2是布：'))\n",
    "print(a1)\n",
    "if b1==0 and a1 ==2:\n",
    "    print('您赢了')        \n",
    "elif b1==1 and a1 ==0:\n",
    "    print('您赢了')\n",
    "elif b1 ==2 and a1 == 1:\n",
    "    print('您赢了')\n",
    "elif b1==a1:\n",
    "    print('平局')\n",
    "    \n",
    "    \n"
   ]
  },
  {
   "cell_type": "code",
   "execution_count": 42,
   "metadata": {},
   "outputs": [
    {
     "name": "stdout",
     "output_type": "stream",
     "text": [
      "请您出数0是剪刀、1是石头、2是布：1\n",
      "2\n",
      "电脑赢了\n"
     ]
    }
   ],
   "source": [
    "import random\n",
    "a1 = random.randint(0,2)\n",
    "b1 = eval(input('请您出数0是剪刀、1是石头、2是布：'))\n",
    "print(a1)\n",
    "if b1==0 and a1 ==2:\n",
    "    print('您赢了')        \n",
    "else:\n",
    "    if b1==1 and a1 ==0:\n",
    "        print('您赢了')\n",
    "    else:\n",
    "        if b1 ==2 and a1 == 1:\n",
    "            print('您赢了')\n",
    "        else:\n",
    "            if b1==2 and a1 ==0:\n",
    "                print('电脑赢了')        \n",
    "            else:\n",
    "                if b1==0 and a1 ==1:\n",
    "                    print('电脑赢了')\n",
    "                else:\n",
    "                    if b1 ==1 and a1 == 2:\n",
    "                        print('电脑赢了')\n",
    "                    else:\n",
    "                        if b1==a1:\n",
    "                            print('平局')\n",
    "                        else:\n",
    "                            print('输入错误')\n",
    "                \n",
    "    "
   ]
  },
  {
   "cell_type": "markdown",
   "metadata": {},
   "source": [
    "- 9\n",
    "![](../Photo/50.png)"
   ]
  },
  {
   "cell_type": "markdown",
   "metadata": {},
   "source": [
    "- 10\n",
    "![](../Photo/51.png)"
   ]
  },
  {
   "cell_type": "markdown",
   "metadata": {},
   "source": [
    "- 11\n",
    "![](../Photo/52.png)"
   ]
  },
  {
   "cell_type": "code",
   "execution_count": null,
   "metadata": {},
   "outputs": [],
   "source": [
    "h = eval(input('请输入一个三个整数：'))\n",
    "if "
   ]
  },
  {
   "cell_type": "markdown",
   "metadata": {},
   "source": [
    "- 12\n",
    "![](../Photo/53.png)"
   ]
  },
  {
   "cell_type": "code",
   "execution_count": 45,
   "metadata": {},
   "outputs": [
    {
     "name": "stdout",
     "output_type": "stream",
     "text": [
      "请输入每一个边1\n",
      "请输入每二个边1\n",
      "请输入每三个边1\n",
      "3\n"
     ]
    }
   ],
   "source": [
    "a = eval(input('请输入每一个边'))\n",
    "b = eval(input('请输入每二个边'))\n",
    "c = eval(input('请输入每三个边'))\n",
    "d = a+b+c\n",
    "if (a+b) > c:\n",
    "    print(d)\n",
    "else:\n",
    "    print('边长不合法')"
   ]
  }
 ],
 "metadata": {
  "kernelspec": {
   "display_name": "Python 3",
   "language": "python",
   "name": "python3"
  },
  "language_info": {
   "codemirror_mode": {
    "name": "ipython",
    "version": 3
   },
   "file_extension": ".py",
   "mimetype": "text/x-python",
   "name": "python",
   "nbconvert_exporter": "python",
   "pygments_lexer": "ipython3",
   "version": "3.6.4"
  }
 },
 "nbformat": 4,
 "nbformat_minor": 2
}
